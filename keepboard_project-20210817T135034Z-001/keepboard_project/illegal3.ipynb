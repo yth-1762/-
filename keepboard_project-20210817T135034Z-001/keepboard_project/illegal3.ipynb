{
  "nbformat": 4,
  "nbformat_minor": 0,
  "metadata": {
    "colab": {
      "name": "illegal3",
      "private_outputs": true,
      "provenance": [],
      "collapsed_sections": [],
      "machine_shape": "hm"
    },
    "kernelspec": {
      "name": "python3",
      "display_name": "Python 3"
    },
    "language_info": {
      "name": "python"
    },
    "accelerator": "TPU"
  },
  "cells": [
    {
      "cell_type": "code",
      "metadata": {
        "id": "7uhEVlz50xB_"
      },
      "source": [
        "from google.colab import drive\n",
        "drive.mount('/content/drive',force_remount=True)\n"
      ],
      "execution_count": null,
      "outputs": []
    },
    {
      "cell_type": "code",
      "metadata": {
        "id": "CMeGHijH07XT"
      },
      "source": [
        "%cd /content/drive/MyDrive/Colab_Notebooks/yolov5/\n",
        "!pip install -r requirements.txt"
      ],
      "execution_count": null,
      "outputs": []
    },
    {
      "cell_type": "code",
      "metadata": {
        "id": "C94RcUe81PrD"
      },
      "source": [
        "%cat /content/drive/MyDrive/Colab_Notebooks/last1/data.yaml"
      ],
      "execution_count": null,
      "outputs": []
    },
    {
      "cell_type": "code",
      "metadata": {
        "id": "1QrxkF0A2mFF"
      },
      "source": [
        "%cd /\n",
        "\n",
        "from glob import glob \n",
        "train_img_list = glob('/content/drive/MyDrive/Colab_Notebooks/last1/train/images/*.jpg')\n",
        "test_img_list = glob('/content/drive/MyDrive/Colab_Notebooks/last1/test/images/*.jpg')\n",
        "print(len(train_img_list))\n",
        "print(len(test_img_list))"
      ],
      "execution_count": null,
      "outputs": []
    },
    {
      "cell_type": "code",
      "metadata": {
        "id": "bqXch9gc3H6d"
      },
      "source": [
        "with open ('/content/drive/MyDrive/Colab_Notebooks/last1/train.txt', 'w') as f:\n",
        "  f.write('\\n'.join(train_img_list) + '\\n')\n",
        "\n",
        "with open ('/content/drive/MyDrive/Colab_Notebooks/last1/test.txt', 'w') as f:\n",
        "  f.write('\\n'.join(test_img_list) + '\\n')"
      ],
      "execution_count": null,
      "outputs": []
    },
    {
      "cell_type": "code",
      "metadata": {
        "id": "O4YtDmI13H9H"
      },
      "source": [
        "import yaml\n",
        "\n",
        "with open('/content/drive/MyDrive/Colab_Notebooks/last1/data.yaml', 'r') as f:\n",
        "  data = yaml.load(f)\n",
        "print(data)\n",
        "\n",
        "data['train'] = '/content/drive/MyDrive/Colab_Notebooks/last1/train.txt'\n",
        "data['val'] = '/content/drive/MyDrive/Colab_Notebooks/last1/test.txt'\n",
        "\n",
        "with open('/content/drive/MyDrive/Colab_Notebooks/last1/data.yaml', 'w') as f:\n",
        "  yaml.dump(data, f)\n",
        "\n",
        "print(data)\n"
      ],
      "execution_count": null,
      "outputs": []
    },
    {
      "cell_type": "code",
      "metadata": {
        "id": "iZB3x7UW4QFU"
      },
      "source": [
        "%cd /content/drive/MyDrive/Colab_Notebooks/yolov5/\n",
        "\n",
        "!python train.py --img 416 --batch 60  --epochs 40 --data /content/drive/MyDrive/Colab_Notebooks/last1/data.yaml --cfg ./models/yolov5m.yaml --weights /content/drive/MyDrive/Colab_Notebooks/yolov5/runs/train/park_yolov5s_result113/weights/best.pt   --name hemlet_5m_result1"
      ],
      "execution_count": null,
      "outputs": []
    },
    {
      "cell_type": "code",
      "metadata": {
        "id": "lPdU1YKKXdFZ"
      },
      "source": [
        "%cd /content/drive/MyDrive/Colab_Notebooks/yolov5/\n",
        "\n",
        "!python train.py --img 416 --batch 40  --epochs 40 --data /content/drive/MyDrive/Colab_Notebooks/dataset2/data.yaml \n",
        "--cfg ./models/yolov5s.yaml --weights /content/drive/MyDrive/yolov5/runs/train/helmet_yolov5s_results/weights/best.pt   --name hemlet_5s_result"
      ],
      "execution_count": null,
      "outputs": []
    },
    {
      "cell_type": "code",
      "metadata": {
        "id": "sBbIp69n4QRi"
      },
      "source": [
        " %load_ext tensorboard\n",
        " %tensorboard --logdir /content/drive/MyDrive/Colab_Notebooks/yolov5/runs"
      ],
      "execution_count": null,
      "outputs": []
    },
    {
      "cell_type": "code",
      "metadata": {
        "id": "plM-7gZV4QUz"
      },
      "source": [
        "from IPython.display import Image\n",
        "import os \n",
        "\n",
        "val_img_path = test_img_lis4[3]\n",
        "\n",
        "!python detect.py --weights /content/drive/MyDrive/Colab_Notebooks/yolov5/runs/train/park_yolov5s_result112/weights/best.pt\n",
        " --img 416 --conf 0.5 --source \"{val_img_path}\""
      ],
      "execution_count": null,
      "outputs": []
    },
    {
      "cell_type": "code",
      "metadata": {
        "id": "zxm8VL4pmh0i"
      },
      "source": [
        "!python detect.py --weights /content/drive/MyDrive/Colab_Notebooks/yolov5/runs/train/park_yolov5m_results/weights/best.pt --img 416 --conf 0.3 --source /content/drive/MyDrive/Colab_Notebooks/kickboard/parks.jpg"
      ],
      "execution_count": null,
      "outputs": []
    },
    {
      "cell_type": "code",
      "metadata": {
        "id": "rg7ja3o86iKR"
      },
      "source": [
        ".python detect.py --weights /content/drive/MyDrive/Colab_Notebooks/yolov5/runs/train/park_yolov5s_result112/weights/best.pt --img 416 --conf 0.5 --source /content/drive/MyDrive/Colab_Notebooks/kickboard/park3jpg"
      ],
      "execution_count": null,
      "outputs": []
    },
    {
      "cell_type": "code",
      "metadata": {
        "id": "3bnvsrbT6iPU"
      },
      "source": [
        "from IPython.display import Image \n",
        "import os \n",
        "!python detect.py --weights /content/drive/MyDrive/Colab_Notebooks/yolov5/runs/train/hemlet_5m_result1/weights/best.pt --img 416 --conf 0.3 --source /content/drive/MyDrive/Colab_Notebooks/park/park33.jpg"
      ],
      "execution_count": null,
      "outputs": []
    },
    {
      "cell_type": "code",
      "metadata": {
        "id": "6L7EswegpFHr"
      },
      "source": [
        "from IPython.display import Image \n",
        "import os \n",
        "\n",
        "!python detect.py --weights /content/drive/MyDrive/Colab_Notebooks/yolov5/runs/train/hemlet_5m_result1/weights/best.pt --img 416 --conf 0.3 --source /content/drive/MyDrive/Colab_Notebooks/park/park33.jpg"
      ],
      "execution_count": null,
      "outputs": []
    }
  ]
}